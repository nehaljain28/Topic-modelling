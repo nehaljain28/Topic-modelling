{
 "cells": [
  {
   "cell_type": "code",
   "execution_count": 1,
   "id": "5099f38f",
   "metadata": {},
   "outputs": [
    {
     "name": "stdout",
     "output_type": "stream",
     "text": [
      "[(0, '0.063*\"document\" + 0.033*\"query\" + 0.031*\"strip\" + 0.022*\"outcome\" + 0.021*\"predict\" + 0.021*\"spot\" + 0.020*\"square\" + 0.019*\"cross\" + 0.019*\"perform\" + 0.018*\"vectors\"'), (1, '0.050*\"spot\" + 0.032*\"strip\" + 0.029*\"consider\" + 0.027*\"cross\" + 0.026*\"square\" + 0.024*\"predict\" + 0.023*\"year\" + 0.022*\"outcome\" + 0.022*\"perform\" + 0.019*\"list\"'), (2, '0.038*\"list\" + 0.035*\"year\" + 0.031*\"consider\" + 0.024*\"retail\" + 0.024*\"olapoperations\" + 0.023*\"product\" + 0.023*\"january\" + 0.023*\"products\" + 0.022*\"base\" + 0.022*\"cuboidas\"'), (3, '0.011*\"data\" + 0.011*\"partition\" + 0.011*\"consider\" + 0.011*\"document\" + 0.011*\"weight\" + 0.011*\"attribute\" + 0.011*\"decision\" + 0.011*\"base\" + 0.011*\"spot\" + 0.011*\"classifier\"'), (4, '0.058*\"data\" + 0.040*\"tree\" + 0.040*\"short\" + 0.040*\"classifier\" + 0.040*\"decision\" + 0.040*\"width\" + 0.040*\"consider\" + 0.040*\"attribute\" + 0.040*\"weight\" + 0.040*\"partition\"'), (5, '0.018*\"spot\" + 0.016*\"strip\" + 0.015*\"outcome\" + 0.015*\"cross\" + 0.014*\"predict\" + 0.014*\"observe\" + 0.014*\"square\" + 0.014*\"significance\" + 0.013*\"phenotypic\" + 0.013*\"individuals\"')]\n",
      "(0, '0.063*\"document\" + 0.033*\"query\" + 0.031*\"strip\" + 0.022*\"outcome\" + 0.021*\"predict\"')\n",
      "(1, '0.050*\"spot\" + 0.032*\"strip\" + 0.029*\"consider\" + 0.027*\"cross\" + 0.026*\"square\"')\n",
      "(4, '0.058*\"data\" + 0.040*\"tree\" + 0.040*\"short\" + 0.040*\"classifier\" + 0.040*\"decision\"')\n",
      "(2, '0.038*\"list\" + 0.035*\"year\" + 0.031*\"consider\" + 0.024*\"retail\" + 0.024*\"olapoperations\"')\n",
      "(5, '0.018*\"spot\" + 0.016*\"strip\" + 0.015*\"outcome\" + 0.015*\"cross\" + 0.014*\"predict\"')\n",
      "doc :  0 [(0, 0.1402834), (1, 0.84066266)]\n",
      "doc :  1 [(4, 0.96794146)]\n",
      "doc :  2 [(2, 0.966527)]\n",
      "doc :  3 [(0, 0.9652752)]\n",
      "doc :  4 [(0, 0.011112751), (1, 0.011116103), (2, 0.011115181), (3, 0.011111845), (4, 0.9444323), (5, 0.0111117875)]\n"
     ]
    }
   ],
   "source": [
    "import gensim\n",
    "from gensim import corpora\n",
    "from qpaper_preprocessing import prepro_data\n",
    "\n",
    "dict_ = corpora.Dictionary(prepro_data)\n",
    "\n",
    "# print(dict_)\n",
    "\n",
    "# for i,j in dict_.items():\n",
    "#     print(i, \" \", j)\n",
    "#\n",
    "#\n",
    "doc_term_matrix = [dict_.doc2bow(i) for i in prepro_data]\n",
    "# print(doc_term_matrix)\n",
    "#\n",
    "Lda = gensim.models.ldamodel.LdaModel\n",
    "\n",
    "ldamodel = Lda(doc_term_matrix, num_topics=6, id2word = dict_, passes=1, random_state=0, eval_every=None)\n",
    "\n",
    "print(ldamodel.print_topics())\n",
    "\n",
    "for i in ldamodel.print_topics(num_topics=len(prepro_data), num_words=5):\n",
    "    print(i)\n",
    "\n",
    "count = 0\n",
    "for i in ldamodel[doc_term_matrix]:\n",
    "    print(\"doc : \",count,i)\n",
    "    count += 1\n",
    "\n",
    "# lda_model =  gensim.models.LdaMulticore(doc_term_matrix, num_topics = 8, id2word = dict_, passes = 10, workers = 2)\n",
    "# print(lda_model.print_topic())"
   ]
  },
  {
   "cell_type": "code",
   "execution_count": null,
   "id": "1e4ce1ba",
   "metadata": {},
   "outputs": [],
   "source": []
  }
 ],
 "metadata": {
  "kernelspec": {
   "display_name": "Python 3 (ipykernel)",
   "language": "python",
   "name": "python3"
  },
  "language_info": {
   "codemirror_mode": {
    "name": "ipython",
    "version": 3
   },
   "file_extension": ".py",
   "mimetype": "text/x-python",
   "name": "python",
   "nbconvert_exporter": "python",
   "pygments_lexer": "ipython3",
   "version": "3.9.12"
  }
 },
 "nbformat": 4,
 "nbformat_minor": 5
}
